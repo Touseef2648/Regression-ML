{
 "cells": [
  {
   "cell_type": "markdown",
   "id": "579272ec",
   "metadata": {},
   "source": [
    "# Relevant Libraries"
   ]
  },
  {
   "cell_type": "code",
   "execution_count": 1,
   "id": "bff81cfb",
   "metadata": {},
   "outputs": [],
   "source": [
    "import numpy as np\n",
    "import pandas as pd\n",
    "\n",
    "from sklearn.linear_model import LinearRegression as LR"
   ]
  },
  {
   "cell_type": "markdown",
   "id": "a3ccdbb4",
   "metadata": {},
   "source": [
    "# Load the Data"
   ]
  },
  {
   "cell_type": "code",
   "execution_count": 2,
   "id": "176d40bc",
   "metadata": {},
   "outputs": [],
   "source": [
    "data = pd.read_csv(r\"C:\\Users\\Tauseef\\Deep_Learning\\2-Regression\\dataset\\GPAvsETEA_.csv\")"
   ]
  },
  {
   "cell_type": "code",
   "execution_count": 3,
   "id": "a59e0d38",
   "metadata": {},
   "outputs": [
    {
     "data": {
      "text/html": [
       "<div>\n",
       "<style scoped>\n",
       "    .dataframe tbody tr th:only-of-type {\n",
       "        vertical-align: middle;\n",
       "    }\n",
       "\n",
       "    .dataframe tbody tr th {\n",
       "        vertical-align: top;\n",
       "    }\n",
       "\n",
       "    .dataframe thead th {\n",
       "        text-align: right;\n",
       "    }\n",
       "</style>\n",
       "<table border=\"1\" class=\"dataframe\">\n",
       "  <thead>\n",
       "    <tr style=\"text-align: right;\">\n",
       "      <th></th>\n",
       "      <th>ETEA</th>\n",
       "      <th>GPA</th>\n",
       "      <th>rand</th>\n",
       "    </tr>\n",
       "  </thead>\n",
       "  <tbody>\n",
       "    <tr>\n",
       "      <th>0</th>\n",
       "      <td>428.50</td>\n",
       "      <td>2.40</td>\n",
       "      <td>3</td>\n",
       "    </tr>\n",
       "    <tr>\n",
       "      <th>1</th>\n",
       "      <td>416.00</td>\n",
       "      <td>2.52</td>\n",
       "      <td>2</td>\n",
       "    </tr>\n",
       "    <tr>\n",
       "      <th>2</th>\n",
       "      <td>440.00</td>\n",
       "      <td>2.54</td>\n",
       "      <td>3</td>\n",
       "    </tr>\n",
       "    <tr>\n",
       "      <th>3</th>\n",
       "      <td>421.25</td>\n",
       "      <td>2.74</td>\n",
       "      <td>2</td>\n",
       "    </tr>\n",
       "    <tr>\n",
       "      <th>4</th>\n",
       "      <td>423.25</td>\n",
       "      <td>2.83</td>\n",
       "      <td>1</td>\n",
       "    </tr>\n",
       "  </tbody>\n",
       "</table>\n",
       "</div>"
      ],
      "text/plain": [
       "     ETEA   GPA  rand\n",
       "0  428.50  2.40     3\n",
       "1  416.00  2.52     2\n",
       "2  440.00  2.54     3\n",
       "3  421.25  2.74     2\n",
       "4  423.25  2.83     1"
      ]
     },
     "execution_count": 3,
     "metadata": {},
     "output_type": "execute_result"
    }
   ],
   "source": [
    "data.head()"
   ]
  },
  {
   "cell_type": "markdown",
   "id": "f86e5d83",
   "metadata": {},
   "source": [
    "# Multiple Linear Regression"
   ]
  },
  {
   "cell_type": "markdown",
   "id": "c46cf3c2",
   "metadata": {},
   "source": [
    "###    Define dependent and independent variable"
   ]
  },
  {
   "cell_type": "code",
   "execution_count": 4,
   "id": "217c2af4",
   "metadata": {},
   "outputs": [],
   "source": [
    "x = data[['ETEA','rand']]\n",
    "y = data['GPA']"
   ]
  },
  {
   "cell_type": "markdown",
   "id": "c7bf0765",
   "metadata": {},
   "source": [
    "# Standardization"
   ]
  },
  {
   "cell_type": "code",
   "execution_count": 7,
   "id": "a4a9f087",
   "metadata": {},
   "outputs": [],
   "source": [
    "from sklearn.preprocessing import StandardScaler as SS"
   ]
  },
  {
   "cell_type": "code",
   "execution_count": 8,
   "id": "93715c7f",
   "metadata": {},
   "outputs": [],
   "source": [
    "scaler = SS()"
   ]
  },
  {
   "cell_type": "code",
   "execution_count": 9,
   "id": "280820a0",
   "metadata": {},
   "outputs": [
    {
     "data": {
      "text/plain": [
       "StandardScaler()"
      ]
     },
     "execution_count": 9,
     "metadata": {},
     "output_type": "execute_result"
    }
   ],
   "source": [
    "scaler.fit(x)"
   ]
  },
  {
   "cell_type": "code",
   "execution_count": 13,
   "id": "523b089a",
   "metadata": {},
   "outputs": [
    {
     "data": {
      "text/plain": [
       "array([[-1.26338288,  1.17335776],\n",
       "       [-1.74458431,  0.02728739],\n",
       "       [-0.82067757,  1.17335776],\n",
       "       [-1.54247971,  0.02728739],\n",
       "       [-1.46548748, -1.11878298],\n",
       "       [-1.68684014,  1.17335776],\n",
       "       [-0.78218146,  1.17335776],\n",
       "       [-0.78218146, -1.11878298],\n",
       "       [-0.51270866,  1.17335776],\n",
       "       [ 0.04548499,  1.17335776],\n",
       "       [-1.06127829,  1.17335776],\n",
       "       [-0.67631715,  1.17335776],\n",
       "       [-1.06127829, -1.11878298],\n",
       "       [-1.28263094, -1.11878298],\n",
       "       [-0.6955652 ,  1.17335776],\n",
       "       [ 0.25721362, -1.11878298],\n",
       "       [-0.86879772, -1.11878298],\n",
       "       [-1.64834403, -1.11878298],\n",
       "       [-0.03150724, -1.11878298],\n",
       "       [-0.57045283,  0.02728739],\n",
       "       [-0.81105355, -1.11878298],\n",
       "       [-1.18639066,  1.17335776],\n",
       "       [-1.75420834,  1.17335776],\n",
       "       [-1.52323165, -1.11878298],\n",
       "       [ 1.23886453,  1.17335776],\n",
       "       [-0.18549169, -1.11878298],\n",
       "       [-0.5608288 , -1.11878298],\n",
       "       [-0.23361183, -1.11878298],\n",
       "       [ 1.68156984,  0.02728739],\n",
       "       [-0.4934606 ,  0.02728739],\n",
       "       [-0.73406132,  0.02728739],\n",
       "       [ 0.85390339, -1.11878298],\n",
       "       [-0.67631715,  1.17335776],\n",
       "       [ 0.09360513,  1.17335776],\n",
       "       [ 0.33420585,  1.17335776],\n",
       "       [ 0.03586096,  1.17335776],\n",
       "       [-0.35872421,  1.17335776],\n",
       "       [ 1.04638396,  0.02728739],\n",
       "       [-0.65706909, -1.11878298],\n",
       "       [-0.13737155,  1.17335776],\n",
       "       [ 0.18984542,  0.02728739],\n",
       "       [ 0.04548499, -1.11878298],\n",
       "       [ 1.1618723 , -1.11878298],\n",
       "       [-1.37887123, -1.11878298],\n",
       "       [ 1.39284898,  0.02728739],\n",
       "       [ 0.76728713,  0.02728739],\n",
       "       [-0.20473975,  1.17335776],\n",
       "       [ 1.06563201, -1.11878298],\n",
       "       [ 0.11285319, -1.11878298],\n",
       "       [ 1.28698467,  0.02728739],\n",
       "       [-0.41646838, -1.11878298],\n",
       "       [ 0.09360513,  1.17335776],\n",
       "       [ 0.59405462,  1.17335776],\n",
       "       [-2.03330517, -1.11878298],\n",
       "       [ 0.32458182, -1.11878298],\n",
       "       [ 0.40157405,  1.17335776],\n",
       "       [-1.10939843,  0.02728739],\n",
       "       [ 1.03675993, -1.11878298],\n",
       "       [-0.61857297,  1.17335776],\n",
       "       [ 0.44007016,  0.02728739],\n",
       "       [ 1.14262424, -1.11878298],\n",
       "       [-0.35872421,  0.02728739],\n",
       "       [ 0.45931822,  0.02728739],\n",
       "       [ 1.88367444, -1.11878298],\n",
       "       [ 0.45931822,  1.17335776],\n",
       "       [-0.12774752,  0.02728739],\n",
       "       [ 0.04548499, -1.11878298],\n",
       "       [ 0.85390339, -1.11878298],\n",
       "       [ 0.15134931,  1.17335776],\n",
       "       [ 0.8250313 , -1.11878298],\n",
       "       [ 0.84427936, -1.11878298],\n",
       "       [-0.64744506,  1.17335776],\n",
       "       [ 1.24848856,  1.17335776],\n",
       "       [ 0.85390339, -1.11878298],\n",
       "       [ 1.69119387,  0.02728739],\n",
       "       [ 1.6334497 ,  1.17335776],\n",
       "       [ 1.46021718,  0.02728739],\n",
       "       [ 1.68156984, -1.11878298],\n",
       "       [-0.02188321,  1.17335776],\n",
       "       [ 0.87315144,  0.02728739],\n",
       "       [-0.33947615,  0.02728739],\n",
       "       [ 1.3639769 , -1.11878298],\n",
       "       [ 1.12337618,  1.17335776],\n",
       "       [ 1.97029069,  1.17335776]])"
      ]
     },
     "execution_count": 13,
     "metadata": {},
     "output_type": "execute_result"
    }
   ],
   "source": [
    "x_scaled = scaler.transform(x)\n",
    "x_scaled"
   ]
  },
  {
   "cell_type": "markdown",
   "id": "0d94ba1b",
   "metadata": {},
   "source": [
    "### Regression with scaled features"
   ]
  },
  {
   "cell_type": "code",
   "execution_count": 14,
   "id": "b97bba72",
   "metadata": {},
   "outputs": [],
   "source": [
    "reg = LR()"
   ]
  },
  {
   "cell_type": "code",
   "execution_count": 15,
   "id": "8298d7fd",
   "metadata": {},
   "outputs": [
    {
     "data": {
      "text/plain": [
       "LinearRegression()"
      ]
     },
     "execution_count": 15,
     "metadata": {},
     "output_type": "execute_result"
    }
   ],
   "source": [
    "reg.fit(x_scaled,y)"
   ]
  },
  {
   "cell_type": "code",
   "execution_count": 16,
   "id": "0fd4cf12",
   "metadata": {},
   "outputs": [
    {
     "data": {
      "text/plain": [
       "array([ 0.17126539, -0.01827826])"
      ]
     },
     "execution_count": 16,
     "metadata": {},
     "output_type": "execute_result"
    }
   ],
   "source": [
    "reg.coef_"
   ]
  },
  {
   "cell_type": "code",
   "execution_count": 17,
   "id": "aacdd981",
   "metadata": {},
   "outputs": [
    {
     "data": {
      "text/plain": [
       "3.330238095238095"
      ]
     },
     "execution_count": 17,
     "metadata": {},
     "output_type": "execute_result"
    }
   ],
   "source": [
    "reg.intercept_"
   ]
  },
  {
   "cell_type": "markdown",
   "id": "edd2ccf6",
   "metadata": {},
   "source": [
    "## Summary Table"
   ]
  },
  {
   "cell_type": "code",
   "execution_count": 20,
   "id": "61abbdcb",
   "metadata": {},
   "outputs": [
    {
     "data": {
      "text/html": [
       "<div>\n",
       "<style scoped>\n",
       "    .dataframe tbody tr th:only-of-type {\n",
       "        vertical-align: middle;\n",
       "    }\n",
       "\n",
       "    .dataframe tbody tr th {\n",
       "        vertical-align: top;\n",
       "    }\n",
       "\n",
       "    .dataframe thead th {\n",
       "        text-align: right;\n",
       "    }\n",
       "</style>\n",
       "<table border=\"1\" class=\"dataframe\">\n",
       "  <thead>\n",
       "    <tr style=\"text-align: right;\">\n",
       "      <th></th>\n",
       "      <th>Features</th>\n",
       "      <th>Weights</th>\n",
       "    </tr>\n",
       "  </thead>\n",
       "  <tbody>\n",
       "    <tr>\n",
       "      <th>0</th>\n",
       "      <td>Bias</td>\n",
       "      <td>3.330238</td>\n",
       "    </tr>\n",
       "    <tr>\n",
       "      <th>1</th>\n",
       "      <td>ETEA</td>\n",
       "      <td>0.171265</td>\n",
       "    </tr>\n",
       "    <tr>\n",
       "      <th>2</th>\n",
       "      <td>Rand 1,2,3</td>\n",
       "      <td>-0.018278</td>\n",
       "    </tr>\n",
       "  </tbody>\n",
       "</table>\n",
       "</div>"
      ],
      "text/plain": [
       "     Features   Weights\n",
       "0        Bias  3.330238\n",
       "1        ETEA  0.171265\n",
       "2  Rand 1,2,3 -0.018278"
      ]
     },
     "execution_count": 20,
     "metadata": {},
     "output_type": "execute_result"
    }
   ],
   "source": [
    "reg_summary = pd.DataFrame([['Bias'],['ETEA'],['Rand 1,2,3']], columns=['Features'])\n",
    "reg_summary['Weights'] = reg.intercept_, reg.coef_[0], reg.coef_[1]\n",
    "reg_summary"
   ]
  },
  {
   "cell_type": "markdown",
   "id": "b4637ec4",
   "metadata": {},
   "source": [
    "### Making predictions with standardize coeff ( weights)"
   ]
  },
  {
   "cell_type": "code",
   "execution_count": 22,
   "id": "71f4d9bd",
   "metadata": {},
   "outputs": [
    {
     "data": {
      "text/html": [
       "<div>\n",
       "<style scoped>\n",
       "    .dataframe tbody tr th:only-of-type {\n",
       "        vertical-align: middle;\n",
       "    }\n",
       "\n",
       "    .dataframe tbody tr th {\n",
       "        vertical-align: top;\n",
       "    }\n",
       "\n",
       "    .dataframe thead th {\n",
       "        text-align: right;\n",
       "    }\n",
       "</style>\n",
       "<table border=\"1\" class=\"dataframe\">\n",
       "  <thead>\n",
       "    <tr style=\"text-align: right;\">\n",
       "      <th></th>\n",
       "      <th>ETEA</th>\n",
       "      <th>rand</th>\n",
       "    </tr>\n",
       "  </thead>\n",
       "  <tbody>\n",
       "    <tr>\n",
       "      <th>0</th>\n",
       "      <td>500</td>\n",
       "      <td>2</td>\n",
       "    </tr>\n",
       "    <tr>\n",
       "      <th>1</th>\n",
       "      <td>484</td>\n",
       "      <td>1</td>\n",
       "    </tr>\n",
       "  </tbody>\n",
       "</table>\n",
       "</div>"
      ],
      "text/plain": [
       "   ETEA  rand\n",
       "0   500     2\n",
       "1   484     1"
      ]
     },
     "execution_count": 22,
     "metadata": {},
     "output_type": "execute_result"
    }
   ],
   "source": [
    "new_data = pd.DataFrame(data=[[500,2],[484,1]],columns=['ETEA','rand'])\n",
    "new_data"
   ]
  },
  {
   "cell_type": "code",
   "execution_count": 23,
   "id": "5b1e79c4",
   "metadata": {},
   "outputs": [
    {
     "data": {
      "text/plain": [
       "array([88.9263786 , 86.20441056])"
      ]
     },
     "execution_count": 23,
     "metadata": {},
     "output_type": "execute_result"
    }
   ],
   "source": [
    "reg.predict(new_data)"
   ]
  },
  {
   "cell_type": "code",
   "execution_count": 24,
   "id": "1184966e",
   "metadata": {},
   "outputs": [
    {
     "data": {
      "text/plain": [
       "array([[ 1.48908927,  0.02728739],\n",
       "       [ 0.87315144, -1.11878298]])"
      ]
     },
     "execution_count": 24,
     "metadata": {},
     "output_type": "execute_result"
    }
   ],
   "source": [
    "new_data_scaled = scaler.transform(new_data)\n",
    "new_data_scaled"
   ]
  },
  {
   "cell_type": "code",
   "execution_count": 25,
   "id": "38b3d655",
   "metadata": {},
   "outputs": [
    {
     "data": {
      "text/plain": [
       "array([3.58476879, 3.50022813])"
      ]
     },
     "execution_count": 25,
     "metadata": {},
     "output_type": "execute_result"
    }
   ],
   "source": [
    "reg.predict(new_data_scaled)"
   ]
  },
  {
   "cell_type": "code",
   "execution_count": null,
   "id": "0fd33fe3",
   "metadata": {},
   "outputs": [],
   "source": []
  }
 ],
 "metadata": {
  "kernelspec": {
   "display_name": "Python 3",
   "language": "python",
   "name": "python3"
  },
  "language_info": {
   "codemirror_mode": {
    "name": "ipython",
    "version": 3
   },
   "file_extension": ".py",
   "mimetype": "text/x-python",
   "name": "python",
   "nbconvert_exporter": "python",
   "pygments_lexer": "ipython3",
   "version": "3.8.10"
  }
 },
 "nbformat": 4,
 "nbformat_minor": 5
}
